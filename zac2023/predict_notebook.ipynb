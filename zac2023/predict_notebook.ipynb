{
 "cells": [
  {
   "cell_type": "code",
   "execution_count": null,
   "metadata": {},
   "outputs": [],
   "source": [
    "import os \n",
    "os.environ['CUDA_VISIBLE_DEVICES'] =\"0\"\n",
    "import time\n",
    "from tqdm import tqdm \n",
    "import torch\n",
    "import pandas as pd \n",
    "\n",
    "import sys\n",
    "sys.path.append('/code/submission_v15')\n",
    "\n",
    "import run_fast"
   ]
  },
  {
   "cell_type": "code",
   "execution_count": 2,
   "metadata": {},
   "outputs": [],
   "source": [
    "df_info = pd.read_csv(\"/data/private/info.csv\")\n",
    "df_info.fillna(\"\", inplace=True)\n",
    "df_info[\"prompt\"] = \"\"\n",
    "df_info[\"error\"] = \"\"\n",
    "df_info[\"qwen7B_time\"] = \"\"\n",
    "df_info[\"K2.0_time\"] = \"\""
   ]
  },
  {
   "cell_type": "code",
   "execution_count": null,
   "metadata": {
    "editable": true,
    "slideshow": {
     "slide_type": ""
    },
    "tags": []
   },
   "outputs": [],
   "source": [
    "output_dir = '/results/jupyter_submission1'\n",
    "os.makedirs(output_dir, exist_ok=True)\n",
    "\n",
    "all_predicted_time = run_fast.generate_banners(df_info, output_dir, 2023456789)\n",
    "\n",
    "all_predicted_time = pd.DataFrame(all_predicted_time, columns=['fname', 'time (millisecond)'], index=False)\n",
    "all_predicted_time.to_csv(\"/results/time_submission1.csv\")"
   ]
  },
  {
   "cell_type": "code",
   "execution_count": null,
   "metadata": {},
   "outputs": [],
   "source": [
    "output_dir = '/results/jupyter_submission2'\n",
    "os.makedirs(output_dir, exist_ok=True)\n",
    "\n",
    "all_predicted_time = run_fast.generate_banners(df_info, output_dir, 2123456789)\n",
    "\n",
    "all_predicted_time = pd.DataFrame(all_predicted_time, columns=['fname', 'time (millisecond)'], index=False)\n",
    "all_predicted_time.to_csv(\"/results/time_submission2.csv\")"
   ]
  }
 ],
 "metadata": {
  "kernelspec": {
   "display_name": "Python 3 (ipykernel)",
   "language": "python",
   "name": "python3"
  },
  "language_info": {
   "codemirror_mode": {
    "name": "ipython",
    "version": 3
   },
   "file_extension": ".py",
   "mimetype": "text/x-python",
   "name": "python",
   "nbconvert_exporter": "python",
   "pygments_lexer": "ipython3",
   "version": "3.11.5"
  }
 },
 "nbformat": 4,
 "nbformat_minor": 4
}
